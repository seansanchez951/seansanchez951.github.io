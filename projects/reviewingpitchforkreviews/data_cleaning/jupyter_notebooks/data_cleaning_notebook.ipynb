{
 "cells": [
  {
   "cell_type": "code",
   "execution_count": 2,
   "metadata": {},
   "outputs": [],
   "source": [
    "import numpy as np\n",
    "import pandas as pd\n",
    "import sqlite3\n",
    "import math"
   ]
  },
  {
   "cell_type": "code",
   "execution_count": 3,
   "metadata": {},
   "outputs": [],
   "source": [
    "connect = sqlite3.connect(r\"C:\\Users\\seans\\Desktop\\CS 360 - Final Project\\data.sqlite3\")"
   ]
  },
  {
   "cell_type": "code",
   "execution_count": 4,
   "metadata": {},
   "outputs": [],
   "source": [
    "# get artists data\n",
    "artists_query = '''\n",
    "SELECT *\n",
    "FROM artists\n",
    "'''\n",
    "artists_df = pd.read_sql_query(artists_query, connect)"
   ]
  },
  {
   "cell_type": "code",
   "execution_count": 5,
   "metadata": {},
   "outputs": [],
   "source": [
    "# get reviews data\n",
    "reviews_query = '''\n",
    "SELECT *\n",
    "FROM reviews\n",
    "'''\n",
    "reviews_df = pd.read_sql_query(reviews_query, connect)"
   ]
  },
  {
   "cell_type": "code",
   "execution_count": 6,
   "metadata": {},
   "outputs": [],
   "source": [
    "# get scores data\n",
    "scores_query = '''\n",
    "SELECT *\n",
    "FROM tombstones\n",
    "'''\n",
    "scores_df = pd.read_sql_query(scores_query, connect)"
   ]
  },
  {
   "cell_type": "code",
   "execution_count": 7,
   "metadata": {},
   "outputs": [],
   "source": [
    "# get genre data\n",
    "genre_query = '''\n",
    "SELECT *\n",
    "FROM genre_review_map\n",
    "'''\n",
    "genre_df = pd.read_sql_query(genre_query, connect)"
   ]
  },
  {
   "cell_type": "code",
   "execution_count": 8,
   "metadata": {},
   "outputs": [],
   "source": [
    "# get artist map data\n",
    "artist_map_query = '''\n",
    "SELECT * \n",
    "FROM artist_review_map\n",
    "'''\n",
    "\n",
    "artist_mapdf = pd.read_sql_query(artist_map_query, connect)"
   ]
  },
  {
   "cell_type": "code",
   "execution_count": 9,
   "metadata": {},
   "outputs": [],
   "source": [
    "# get genre map data\n",
    "genre_query = '''\n",
    "SELECT * \n",
    "FROM genre_review_map\n",
    "'''\n",
    "\n",
    "genre_df = pd.read_sql_query(genre_query, connect)"
   ]
  },
  {
   "cell_type": "code",
   "execution_count": 10,
   "metadata": {},
   "outputs": [],
   "source": [
    "# create new data from queries\n",
    "\n",
    "# need list of columns \n",
    "# 'name','artist_id' from artists_df\n",
    "# 'review_url', 'pub_date' from reviews\n",
    "# 'title' 'score' from scores_df\n",
    "\n",
    "# when need to merge df's one by one to make sure the artists, title, and url all match up"
   ]
  },
  {
   "cell_type": "code",
   "execution_count": 11,
   "metadata": {},
   "outputs": [],
   "source": [
    "# start with artists datafram\n",
    "merge_df = artists_df.copy()"
   ]
  },
  {
   "cell_type": "code",
   "execution_count": 12,
   "metadata": {},
   "outputs": [
    {
     "data": {
      "text/html": [
       "<div>\n",
       "<style scoped>\n",
       "    .dataframe tbody tr th:only-of-type {\n",
       "        vertical-align: middle;\n",
       "    }\n",
       "\n",
       "    .dataframe tbody tr th {\n",
       "        vertical-align: top;\n",
       "    }\n",
       "\n",
       "    .dataframe thead th {\n",
       "        text-align: right;\n",
       "    }\n",
       "</style>\n",
       "<table border=\"1\" class=\"dataframe\">\n",
       "  <thead>\n",
       "    <tr style=\"text-align: right;\">\n",
       "      <th></th>\n",
       "      <th>artist_id</th>\n",
       "      <th>name</th>\n",
       "      <th>artist_url</th>\n",
       "    </tr>\n",
       "  </thead>\n",
       "  <tbody>\n",
       "    <tr>\n",
       "      <th>0</th>\n",
       "      <td>4847-avarus</td>\n",
       "      <td>Avarus</td>\n",
       "      <td>/artists/4847-avarus/</td>\n",
       "    </tr>\n",
       "    <tr>\n",
       "      <th>1</th>\n",
       "      <td>33420-pinegrove</td>\n",
       "      <td>Pinegrove</td>\n",
       "      <td>/artists/33420-pinegrove/</td>\n",
       "    </tr>\n",
       "    <tr>\n",
       "      <th>2</th>\n",
       "      <td>2438-le-tigre</td>\n",
       "      <td>Le Tigre</td>\n",
       "      <td>/artists/2438-le-tigre/</td>\n",
       "    </tr>\n",
       "    <tr>\n",
       "      <th>3</th>\n",
       "      <td>4158-paul-simon</td>\n",
       "      <td>Paul Simon</td>\n",
       "      <td>/artists/4158-paul-simon/</td>\n",
       "    </tr>\n",
       "    <tr>\n",
       "      <th>4</th>\n",
       "      <td>4117-alina-simone</td>\n",
       "      <td>Alina Simone</td>\n",
       "      <td>/artists/4117-alina-simone/</td>\n",
       "    </tr>\n",
       "    <tr>\n",
       "      <th>...</th>\n",
       "      <td>...</td>\n",
       "      <td>...</td>\n",
       "      <td>...</td>\n",
       "    </tr>\n",
       "    <tr>\n",
       "      <th>11008</th>\n",
       "      <td>33868-nottz</td>\n",
       "      <td>Nottz</td>\n",
       "      <td>/artists/33868-nottz/</td>\n",
       "    </tr>\n",
       "    <tr>\n",
       "      <th>11009</th>\n",
       "      <td>29248-hilly-eye</td>\n",
       "      <td>Hilly Eye</td>\n",
       "      <td>/artists/29248-hilly-eye/</td>\n",
       "    </tr>\n",
       "    <tr>\n",
       "      <th>11010</th>\n",
       "      <td>pom-pom-squad</td>\n",
       "      <td>Pom Pom Squad</td>\n",
       "      <td>/artists/pom-pom-squad/</td>\n",
       "    </tr>\n",
       "    <tr>\n",
       "      <th>11011</th>\n",
       "      <td>bruiser-wolf</td>\n",
       "      <td>Bruiser Wolf</td>\n",
       "      <td>/artists/bruiser-wolf/</td>\n",
       "    </tr>\n",
       "    <tr>\n",
       "      <th>11012</th>\n",
       "      <td>33542-angry-angles</td>\n",
       "      <td>Angry Angles</td>\n",
       "      <td>/artists/33542-angry-angles/</td>\n",
       "    </tr>\n",
       "  </tbody>\n",
       "</table>\n",
       "<p>11013 rows × 3 columns</p>\n",
       "</div>"
      ],
      "text/plain": [
       "                artist_id           name                    artist_url\n",
       "0             4847-avarus         Avarus         /artists/4847-avarus/\n",
       "1         33420-pinegrove      Pinegrove     /artists/33420-pinegrove/\n",
       "2           2438-le-tigre       Le Tigre       /artists/2438-le-tigre/\n",
       "3         4158-paul-simon     Paul Simon     /artists/4158-paul-simon/\n",
       "4       4117-alina-simone   Alina Simone   /artists/4117-alina-simone/\n",
       "...                   ...            ...                           ...\n",
       "11008         33868-nottz          Nottz         /artists/33868-nottz/\n",
       "11009     29248-hilly-eye      Hilly Eye     /artists/29248-hilly-eye/\n",
       "11010       pom-pom-squad  Pom Pom Squad       /artists/pom-pom-squad/\n",
       "11011        bruiser-wolf   Bruiser Wolf        /artists/bruiser-wolf/\n",
       "11012  33542-angry-angles   Angry Angles  /artists/33542-angry-angles/\n",
       "\n",
       "[11013 rows x 3 columns]"
      ]
     },
     "execution_count": 12,
     "metadata": {},
     "output_type": "execute_result"
    }
   ],
   "source": [
    "merge_df"
   ]
  },
  {
   "cell_type": "code",
   "execution_count": 13,
   "metadata": {},
   "outputs": [],
   "source": [
    "# merge artist_mapdf column based on artist_id\n",
    "merge_df = merge_df.merge(artist_mapdf, on='artist_id')"
   ]
  },
  {
   "cell_type": "code",
   "execution_count": 14,
   "metadata": {},
   "outputs": [],
   "source": [
    "# merge scores_df columns based on review_id\n",
    "merge_df = merge_df.merge(scores_df, on='review_url')"
   ]
  },
  {
   "cell_type": "code",
   "execution_count": 15,
   "metadata": {},
   "outputs": [],
   "source": [
    "# merge reviews_df columns based on review_url\n",
    "merge_df = merge_df.merge(reviews_df, on='review_url')"
   ]
  },
  {
   "cell_type": "code",
   "execution_count": 16,
   "metadata": {},
   "outputs": [],
   "source": [
    "# merge genre_df columns based on review url\n",
    "merge_df = merge_df.merge(genre_df, on='review_url')"
   ]
  },
  {
   "cell_type": "code",
   "execution_count": 17,
   "metadata": {},
   "outputs": [],
   "source": [
    "# drop columns we don't need\n",
    "merge_df = merge_df.drop(columns=['picker_index','review_tombstone_id','body'])"
   ]
  },
  {
   "cell_type": "code",
   "execution_count": 18,
   "metadata": {},
   "outputs": [],
   "source": [
    "# reset index\n",
    "merge_df =  merge_df.reset_index()"
   ]
  },
  {
   "cell_type": "code",
   "execution_count": 19,
   "metadata": {},
   "outputs": [],
   "source": [
    "# add new column year split from the pub_date column\n",
    "merge_df['year'] = merge_df['pub_date'].str.split(\"-\").str.get(0)"
   ]
  },
  {
   "cell_type": "code",
   "execution_count": 20,
   "metadata": {},
   "outputs": [
    {
     "data": {
      "text/plain": [
       "(28588, 13)"
      ]
     },
     "execution_count": 20,
     "metadata": {},
     "output_type": "execute_result"
    }
   ],
   "source": [
    "# too reduce noise and provide better analysis of the data we'll remove music reviews on reissued albums\n",
    "# shape of merged dataframe before removing data on music reviews for reissues is\n",
    "# (28588, 13)\n",
    "merge_df.shape"
   ]
  },
  {
   "cell_type": "code",
   "execution_count": 21,
   "metadata": {},
   "outputs": [],
   "source": [
    "# this removes albums that are considered reissues\n",
    "merge_df = merge_df[merge_df['is_standard_review'] != 0]"
   ]
  },
  {
   "cell_type": "code",
   "execution_count": 23,
   "metadata": {},
   "outputs": [
    {
     "data": {
      "text/plain": [
       "(25266, 13)"
      ]
     },
     "execution_count": 23,
     "metadata": {},
     "output_type": "execute_result"
    }
   ],
   "source": [
    "# after removing reissues\n",
    "# (25266, 13)\n",
    "merge_df.shape"
   ]
  },
  {
   "cell_type": "code",
   "execution_count": 24,
   "metadata": {
    "scrolled": true
   },
   "outputs": [
    {
     "data": {
      "text/html": [
       "<div>\n",
       "<style scoped>\n",
       "    .dataframe tbody tr th:only-of-type {\n",
       "        vertical-align: middle;\n",
       "    }\n",
       "\n",
       "    .dataframe tbody tr th {\n",
       "        vertical-align: top;\n",
       "    }\n",
       "\n",
       "    .dataframe thead th {\n",
       "        text-align: right;\n",
       "    }\n",
       "</style>\n",
       "<table border=\"1\" class=\"dataframe\">\n",
       "  <thead>\n",
       "    <tr style=\"text-align: right;\">\n",
       "      <th></th>\n",
       "      <th>index</th>\n",
       "      <th>artist_id</th>\n",
       "      <th>name</th>\n",
       "      <th>artist_url</th>\n",
       "      <th>review_url</th>\n",
       "      <th>title</th>\n",
       "      <th>score</th>\n",
       "      <th>best_new_music</th>\n",
       "      <th>best_new_reissue</th>\n",
       "      <th>is_standard_review</th>\n",
       "      <th>pub_date</th>\n",
       "      <th>genre</th>\n",
       "      <th>year</th>\n",
       "    </tr>\n",
       "  </thead>\n",
       "  <tbody>\n",
       "    <tr>\n",
       "      <th>0</th>\n",
       "      <td>0</td>\n",
       "      <td>4847-avarus</td>\n",
       "      <td>Avarus</td>\n",
       "      <td>/artists/4847-avarus/</td>\n",
       "      <td>/reviews/albums/9232-vesikansi/</td>\n",
       "      <td>Vesikansi</td>\n",
       "      <td>7.1</td>\n",
       "      <td>0.0</td>\n",
       "      <td>NaN</td>\n",
       "      <td>1</td>\n",
       "      <td>2006-07-27 06:00:04</td>\n",
       "      <td>Experimental</td>\n",
       "      <td>2006</td>\n",
       "    </tr>\n",
       "    <tr>\n",
       "      <th>1</th>\n",
       "      <td>1</td>\n",
       "      <td>4847-avarus</td>\n",
       "      <td>Avarus</td>\n",
       "      <td>/artists/4847-avarus/</td>\n",
       "      <td>/reviews/albums/9232-vesikansi/</td>\n",
       "      <td>Vesikansi</td>\n",
       "      <td>7.1</td>\n",
       "      <td>0.0</td>\n",
       "      <td>NaN</td>\n",
       "      <td>1</td>\n",
       "      <td>2006-07-27 06:00:04</td>\n",
       "      <td>Rock</td>\n",
       "      <td>2006</td>\n",
       "    </tr>\n",
       "    <tr>\n",
       "      <th>2</th>\n",
       "      <td>2</td>\n",
       "      <td>33420-pinegrove</td>\n",
       "      <td>Pinegrove</td>\n",
       "      <td>/artists/33420-pinegrove/</td>\n",
       "      <td>/reviews/albums/22823-elsewhere/</td>\n",
       "      <td>Elsewhere</td>\n",
       "      <td>7.5</td>\n",
       "      <td>0.0</td>\n",
       "      <td>0.0</td>\n",
       "      <td>1</td>\n",
       "      <td>2017-01-27 06:00:00</td>\n",
       "      <td>Rock</td>\n",
       "      <td>2017</td>\n",
       "    </tr>\n",
       "    <tr>\n",
       "      <th>3</th>\n",
       "      <td>3</td>\n",
       "      <td>33420-pinegrove</td>\n",
       "      <td>Pinegrove</td>\n",
       "      <td>/artists/33420-pinegrove/</td>\n",
       "      <td>/reviews/albums/pinegrove-skylight/</td>\n",
       "      <td>Skylight</td>\n",
       "      <td>7.5</td>\n",
       "      <td>0.0</td>\n",
       "      <td>0.0</td>\n",
       "      <td>1</td>\n",
       "      <td>2018-09-29 05:00:00</td>\n",
       "      <td>Rock</td>\n",
       "      <td>2018</td>\n",
       "    </tr>\n",
       "    <tr>\n",
       "      <th>4</th>\n",
       "      <td>4</td>\n",
       "      <td>33420-pinegrove</td>\n",
       "      <td>Pinegrove</td>\n",
       "      <td>/artists/33420-pinegrove/</td>\n",
       "      <td>/reviews/albums/21507-cardinal/</td>\n",
       "      <td>Cardinal</td>\n",
       "      <td>8.0</td>\n",
       "      <td>0.0</td>\n",
       "      <td>0.0</td>\n",
       "      <td>1</td>\n",
       "      <td>2016-02-10 06:00:01</td>\n",
       "      <td>Rock</td>\n",
       "      <td>2016</td>\n",
       "    </tr>\n",
       "    <tr>\n",
       "      <th>...</th>\n",
       "      <td>...</td>\n",
       "      <td>...</td>\n",
       "      <td>...</td>\n",
       "      <td>...</td>\n",
       "      <td>...</td>\n",
       "      <td>...</td>\n",
       "      <td>...</td>\n",
       "      <td>...</td>\n",
       "      <td>...</td>\n",
       "      <td>...</td>\n",
       "      <td>...</td>\n",
       "      <td>...</td>\n",
       "      <td>...</td>\n",
       "    </tr>\n",
       "    <tr>\n",
       "      <th>28583</th>\n",
       "      <td>28583</td>\n",
       "      <td>32955-belly</td>\n",
       "      <td>Belly</td>\n",
       "      <td>/artists/32955-belly/</td>\n",
       "      <td>/reviews/albums/belly-dove/</td>\n",
       "      <td>DOVE</td>\n",
       "      <td>7.2</td>\n",
       "      <td>0.0</td>\n",
       "      <td>0.0</td>\n",
       "      <td>1</td>\n",
       "      <td>2018-05-08 05:00:00</td>\n",
       "      <td>Rock</td>\n",
       "      <td>2018</td>\n",
       "    </tr>\n",
       "    <tr>\n",
       "      <th>28584</th>\n",
       "      <td>28584</td>\n",
       "      <td>27785-casper-the-cookies</td>\n",
       "      <td>Casper &amp; the Cookies</td>\n",
       "      <td>/artists/27785-casper-the-cookies/</td>\n",
       "      <td>/reviews/albums/13032-modern-silence/</td>\n",
       "      <td>Modern Silence</td>\n",
       "      <td>5.4</td>\n",
       "      <td>0.0</td>\n",
       "      <td>0.0</td>\n",
       "      <td>1</td>\n",
       "      <td>2009-05-14 06:00:04</td>\n",
       "      <td>Rock</td>\n",
       "      <td>2009</td>\n",
       "    </tr>\n",
       "    <tr>\n",
       "      <th>28585</th>\n",
       "      <td>28585</td>\n",
       "      <td>pom-pom-squad</td>\n",
       "      <td>Pom Pom Squad</td>\n",
       "      <td>/artists/pom-pom-squad/</td>\n",
       "      <td>/reviews/albums/various-artists-death-of-a-che...</td>\n",
       "      <td>Death of a Cheerleader</td>\n",
       "      <td>6.9</td>\n",
       "      <td>0.0</td>\n",
       "      <td>0.0</td>\n",
       "      <td>1</td>\n",
       "      <td>2021-06-30 04:00:00</td>\n",
       "      <td>Rock</td>\n",
       "      <td>2021</td>\n",
       "    </tr>\n",
       "    <tr>\n",
       "      <th>28586</th>\n",
       "      <td>28586</td>\n",
       "      <td>bruiser-wolf</td>\n",
       "      <td>Bruiser Wolf</td>\n",
       "      <td>/artists/bruiser-wolf/</td>\n",
       "      <td>/reviews/albums/bruiser-wolf-dope-game-stupid/</td>\n",
       "      <td>Dope Game Stupid</td>\n",
       "      <td>7.6</td>\n",
       "      <td>0.0</td>\n",
       "      <td>0.0</td>\n",
       "      <td>1</td>\n",
       "      <td>2021-04-08 04:00:00</td>\n",
       "      <td>Rap</td>\n",
       "      <td>2021</td>\n",
       "    </tr>\n",
       "    <tr>\n",
       "      <th>28587</th>\n",
       "      <td>28587</td>\n",
       "      <td>33542-angry-angles</td>\n",
       "      <td>Angry Angles</td>\n",
       "      <td>/artists/33542-angry-angles/</td>\n",
       "      <td>/reviews/albums/21975-angry-angles/</td>\n",
       "      <td>Angry Angles</td>\n",
       "      <td>7.6</td>\n",
       "      <td>0.0</td>\n",
       "      <td>0.0</td>\n",
       "      <td>1</td>\n",
       "      <td>2016-06-01 05:00:00</td>\n",
       "      <td>Rock</td>\n",
       "      <td>2016</td>\n",
       "    </tr>\n",
       "  </tbody>\n",
       "</table>\n",
       "<p>25266 rows × 13 columns</p>\n",
       "</div>"
      ],
      "text/plain": [
       "       index                 artist_id                  name  \\\n",
       "0          0               4847-avarus                Avarus   \n",
       "1          1               4847-avarus                Avarus   \n",
       "2          2           33420-pinegrove             Pinegrove   \n",
       "3          3           33420-pinegrove             Pinegrove   \n",
       "4          4           33420-pinegrove             Pinegrove   \n",
       "...      ...                       ...                   ...   \n",
       "28583  28583               32955-belly                 Belly   \n",
       "28584  28584  27785-casper-the-cookies  Casper & the Cookies   \n",
       "28585  28585             pom-pom-squad         Pom Pom Squad   \n",
       "28586  28586              bruiser-wolf          Bruiser Wolf   \n",
       "28587  28587        33542-angry-angles          Angry Angles   \n",
       "\n",
       "                               artist_url  \\\n",
       "0                   /artists/4847-avarus/   \n",
       "1                   /artists/4847-avarus/   \n",
       "2               /artists/33420-pinegrove/   \n",
       "3               /artists/33420-pinegrove/   \n",
       "4               /artists/33420-pinegrove/   \n",
       "...                                   ...   \n",
       "28583               /artists/32955-belly/   \n",
       "28584  /artists/27785-casper-the-cookies/   \n",
       "28585             /artists/pom-pom-squad/   \n",
       "28586              /artists/bruiser-wolf/   \n",
       "28587        /artists/33542-angry-angles/   \n",
       "\n",
       "                                              review_url  \\\n",
       "0                        /reviews/albums/9232-vesikansi/   \n",
       "1                        /reviews/albums/9232-vesikansi/   \n",
       "2                       /reviews/albums/22823-elsewhere/   \n",
       "3                    /reviews/albums/pinegrove-skylight/   \n",
       "4                        /reviews/albums/21507-cardinal/   \n",
       "...                                                  ...   \n",
       "28583                        /reviews/albums/belly-dove/   \n",
       "28584              /reviews/albums/13032-modern-silence/   \n",
       "28585  /reviews/albums/various-artists-death-of-a-che...   \n",
       "28586     /reviews/albums/bruiser-wolf-dope-game-stupid/   \n",
       "28587                /reviews/albums/21975-angry-angles/   \n",
       "\n",
       "                        title  score  best_new_music  best_new_reissue  \\\n",
       "0                   Vesikansi    7.1             0.0               NaN   \n",
       "1                   Vesikansi    7.1             0.0               NaN   \n",
       "2                   Elsewhere    7.5             0.0               0.0   \n",
       "3                    Skylight    7.5             0.0               0.0   \n",
       "4                    Cardinal    8.0             0.0               0.0   \n",
       "...                       ...    ...             ...               ...   \n",
       "28583                    DOVE    7.2             0.0               0.0   \n",
       "28584          Modern Silence    5.4             0.0               0.0   \n",
       "28585  Death of a Cheerleader    6.9             0.0               0.0   \n",
       "28586        Dope Game Stupid    7.6             0.0               0.0   \n",
       "28587            Angry Angles    7.6             0.0               0.0   \n",
       "\n",
       "       is_standard_review             pub_date         genre  year  \n",
       "0                       1  2006-07-27 06:00:04  Experimental  2006  \n",
       "1                       1  2006-07-27 06:00:04          Rock  2006  \n",
       "2                       1  2017-01-27 06:00:00          Rock  2017  \n",
       "3                       1  2018-09-29 05:00:00          Rock  2018  \n",
       "4                       1  2016-02-10 06:00:01          Rock  2016  \n",
       "...                   ...                  ...           ...   ...  \n",
       "28583                   1  2018-05-08 05:00:00          Rock  2018  \n",
       "28584                   1  2009-05-14 06:00:04          Rock  2009  \n",
       "28585                   1  2021-06-30 04:00:00          Rock  2021  \n",
       "28586                   1  2021-04-08 04:00:00           Rap  2021  \n",
       "28587                   1  2016-06-01 05:00:00          Rock  2016  \n",
       "\n",
       "[25266 rows x 13 columns]"
      ]
     },
     "execution_count": 24,
     "metadata": {},
     "output_type": "execute_result"
    }
   ],
   "source": [
    "merge_df"
   ]
  },
  {
   "cell_type": "code",
   "execution_count": 25,
   "metadata": {},
   "outputs": [],
   "source": [
    "# get the average review score per year\n",
    "avg_score_per_year = merge_df[['year','score']]"
   ]
  },
  {
   "cell_type": "code",
   "execution_count": 26,
   "metadata": {},
   "outputs": [],
   "source": [
    "# compute the mean score groupby year\n",
    "avg_score_per_year = avg_score_per_year.groupby(avg_score_per_year.year).mean()\n",
    "avg_score_per_year = avg_score_per_year.reset_index()"
   ]
  },
  {
   "cell_type": "code",
   "execution_count": 43,
   "metadata": {},
   "outputs": [],
   "source": [
    "# export average score per year to csv\n",
    "avg_score_per_year.to_csv('pfk-avg-score-per-year.csv', header=True, index=False)"
   ]
  },
  {
   "cell_type": "code",
   "execution_count": 23,
   "metadata": {},
   "outputs": [],
   "source": [
    "# get the average review score per music genre\n",
    "avg_score_per_genre = merge_df[['genre','score']]"
   ]
  },
  {
   "cell_type": "code",
   "execution_count": 24,
   "metadata": {},
   "outputs": [],
   "source": [
    "avg_score_per_genre = avg_score_per_genre.groupby(avg_score_per_genre.genre).mean()\n",
    "avg_score_per_genre = avg_score_per_genre.reset_index()"
   ]
  },
  {
   "cell_type": "code",
   "execution_count": 47,
   "metadata": {},
   "outputs": [],
   "source": [
    "avg_score_per_genre.to_csv('genre-average-score.csv', header=True, index=False)"
   ]
  },
  {
   "cell_type": "code",
   "execution_count": 26,
   "metadata": {},
   "outputs": [],
   "source": [
    "# get all the review scores for each music genre over time\n",
    "genre_trend_over_time = merge_df[['genre','score','pub_date','name','title','year']].copy()"
   ]
  },
  {
   "cell_type": "code",
   "execution_count": 27,
   "metadata": {},
   "outputs": [
    {
     "data": {
      "text/plain": [
       "Rock            10448\n",
       "Electronic       4653\n",
       "Rap              2612\n",
       "Experimental     2551\n",
       "Pop/R&B          2081\n",
       "Folk/Country     1024\n",
       "Metal             981\n",
       "Jazz              675\n",
       "Global            241\n",
       "Name: genre, dtype: int64"
      ]
     },
     "execution_count": 27,
     "metadata": {},
     "output_type": "execute_result"
    }
   ],
   "source": [
    "genre_trend_over_time['genre'].value_counts()"
   ]
  },
  {
   "cell_type": "code",
   "execution_count": 28,
   "metadata": {},
   "outputs": [],
   "source": [
    "# change music genre string 'Folk/County' to 'Folk_and_County'\n",
    "# change music genre string 'Pop and R&B' to 'Pop_and_RnB'\n",
    "# this is due to difficulties in the visualizing special character strings in d3\n",
    "\n",
    "genre_trend_over_time['genre'] = genre_trend_over_time['genre'].apply(lambda x: 'Pop_and_RnB' if x == 'Pop/R&B' else x)\n",
    "genre_trend_over_time['genre'] = genre_trend_over_time['genre'].apply(lambda x: 'Folk_and_Country' if x == 'Folk/Country' else x)"
   ]
  },
  {
   "cell_type": "code",
   "execution_count": 29,
   "metadata": {
    "scrolled": true
   },
   "outputs": [
    {
     "data": {
      "text/plain": [
       "Rock                10448\n",
       "Electronic           4653\n",
       "Rap                  2612\n",
       "Experimental         2551\n",
       "Pop_and_RnB          2081\n",
       "Folk_and_Country     1024\n",
       "Metal                 981\n",
       "Jazz                  675\n",
       "Global                241\n",
       "Name: genre, dtype: int64"
      ]
     },
     "execution_count": 29,
     "metadata": {},
     "output_type": "execute_result"
    }
   ],
   "source": [
    "genre_trend_over_time['genre'].value_counts()"
   ]
  },
  {
   "cell_type": "code",
   "execution_count": 30,
   "metadata": {},
   "outputs": [],
   "source": [
    "genre_trend_over_time.to_csv(\"genre-score-over-time.csv\", header=True, index=False)"
   ]
  },
  {
   "cell_type": "code",
   "execution_count": 61,
   "metadata": {},
   "outputs": [],
   "source": [
    "# get the top 5 albums for each genre \n",
    "# will be used for tooltip information in the treemap visualisation \n",
    "top_rate_by_genre = (merge_df\n",
    "                     .groupby([\"genre\", \"name\",'title','score','year'])\n",
    "                     .mean()\n",
    "                     .sort_values([\"genre\", \"score\"],\n",
    "                                                ascending=False)\n",
    "                     .groupby(level=0, as_index=False)\n",
    "                     .apply(lambda x: x.head() if len(x) >= 10 else x.head(10))\n",
    "                     .reset_index(level=0, drop=True)\n",
    "                    ).round(2)"
   ]
  },
  {
   "cell_type": "code",
   "execution_count": 62,
   "metadata": {},
   "outputs": [],
   "source": [
    "top_rate_by_genre = top_rate_by_genre.reset_index()"
   ]
  },
  {
   "cell_type": "code",
   "execution_count": 64,
   "metadata": {},
   "outputs": [],
   "source": [
    "# remove columns we don't need for tooltip\n",
    "top_rate_by_genre_final = top_rate_by_genre[['genre','name','title','year','score']].copy()"
   ]
  },
  {
   "cell_type": "code",
   "execution_count": 65,
   "metadata": {},
   "outputs": [],
   "source": [
    "# export top 5 albums by genre \n",
    "top_rate_by_genre_final.to_csv(\"top-five-albums.csv\", header=True, index=False)"
   ]
  }
 ],
 "metadata": {
  "kernelspec": {
   "display_name": "Python 3",
   "language": "python",
   "name": "python3"
  },
  "language_info": {
   "codemirror_mode": {
    "name": "ipython",
    "version": 3
   },
   "file_extension": ".py",
   "mimetype": "text/x-python",
   "name": "python",
   "nbconvert_exporter": "python",
   "pygments_lexer": "ipython3",
   "version": "3.8.5"
  }
 },
 "nbformat": 4,
 "nbformat_minor": 4
}
